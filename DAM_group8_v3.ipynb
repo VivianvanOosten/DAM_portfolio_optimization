{
 "cells": [
  {
   "cell_type": "markdown",
   "id": "bc40a5aa",
   "metadata": {},
   "source": [
    "# Introduction"
   ]
  },
  {
   "cell_type": "markdown",
   "id": "4834239f",
   "metadata": {},
   "source": [
    "### ***Purpose***\n",
    "Knowing how to invest personal savings is important for maximizing wealth for all: individuals, households and institutions. And it goes far beyond just locking money in a savings account. With this optimization problem we are addressing the needs to faciliate personal investment decision-making. \n",
    "\n",
    "\n",
    "### ***Method***\n",
    "We consider a number of assets in which one could invest and devise a model to optimize a portfolio which generates the highest return for a given level of risk. \n",
    "We appreciate that users can have different levels of target return, time horizons and risk-averseness. \n",
    "For this purpose, we run the model for several different scenarios in which we adjust for different metrics. \n",
    "\n",
    "<img src=\"citi-bike.jpg\" width=\"500\">"
   ]
  },
  {
   "cell_type": "code",
   "execution_count": 5,
   "id": "fd483577",
   "metadata": {},
   "outputs": [],
   "source": [
    "# Import various packages\n",
    "import pandas as pd\n",
    "import numpy as np\n",
    "import statistics\n",
    "import folium # visualisation package for spatial data (plot of maps)\n",
    "import seaborn as sns # general visualization package \n",
    "import matplotlib.pyplot as plt # general visualization package \n",
    "#next command allows you to display the figures in the notebook\n",
    "%matplotlib inline    "
   ]
  },
  {
   "cell_type": "code",
   "execution_count": 6,
   "id": "bfdbc130",
   "metadata": {},
   "outputs": [],
   "source": [
    "# Import the gurobi package\n",
    "import gurobipy as gp\n",
    "from gurobipy import GRB,quicksum\n",
    "import datetime"
   ]
  },
  {
   "cell_type": "markdown",
   "id": "fce10293",
   "metadata": {},
   "source": [
    "# Data"
   ]
  },
  {
   "cell_type": "code",
   "execution_count": 7,
   "id": "1c4f478d",
   "metadata": {},
   "outputs": [],
   "source": [
    "riskfree = pd.read_csv('data/riskfree.csv')\n",
    "bitcoin = pd.read_csv('data/bitcoin.csv')\n",
    "gold = pd.read_csv('data/Gold.csv')\n",
    "ftse = pd.read_csv('data/FTSE.csv')\n",
    "bank_rates = pd.read_excel('data/bank_rates.xlsx')\n",
    "house_prices = pd.read_excel('data/house_prices.xlsx')"
   ]
  },
  {
   "cell_type": "code",
   "execution_count": 8,
   "id": "2025382d",
   "metadata": {},
   "outputs": [],
   "source": [
    "riskfree = riskfree.dropna()\n",
    "bitcoin = bitcoin.dropna()\n",
    "gold = gold.dropna()\n",
    "ftse = ftse.dropna()\n",
    "bank_rates = bank_rates.dropna()\n",
    "house_prices = house_prices.dropna()"
   ]
  },
  {
   "cell_type": "code",
   "execution_count": 9,
   "id": "16215a48",
   "metadata": {},
   "outputs": [],
   "source": [
    "riskfree['Date'] = pd.to_datetime(riskfree['Date'], format='%b-%y')\n",
    "riskfree = riskfree.sort_values(by='Date')"
   ]
  },
  {
   "cell_type": "code",
   "execution_count": 10,
   "id": "e5833809",
   "metadata": {},
   "outputs": [],
   "source": [
    "bitcoin['Date'] = pd.to_datetime(bitcoin['Date'])\n",
    "bitcoin = bitcoin.sort_values(by=\"Date\")"
   ]
  },
  {
   "cell_type": "code",
   "execution_count": 11,
   "id": "b09f67a9",
   "metadata": {},
   "outputs": [],
   "source": [
    "gold['Date'] = pd.to_datetime(gold['Date'])\n",
    "gold = gold.sort_values(by=\"Date\")"
   ]
  },
  {
   "cell_type": "code",
   "execution_count": 12,
   "id": "1c399092",
   "metadata": {},
   "outputs": [],
   "source": [
    "ftse['Date'] = pd.to_datetime(ftse['Date'])\n",
    "ftse = ftse.sort_values(by=\"Date\")"
   ]
  },
  {
   "cell_type": "code",
   "execution_count": 13,
   "id": "ff2e3b54",
   "metadata": {},
   "outputs": [
    {
     "data": {
      "text/html": [
       "<div>\n",
       "<style scoped>\n",
       "    .dataframe tbody tr th:only-of-type {\n",
       "        vertical-align: middle;\n",
       "    }\n",
       "\n",
       "    .dataframe tbody tr th {\n",
       "        vertical-align: top;\n",
       "    }\n",
       "\n",
       "    .dataframe thead th {\n",
       "        text-align: right;\n",
       "    }\n",
       "</style>\n",
       "<table border=\"1\" class=\"dataframe\">\n",
       "  <thead>\n",
       "    <tr style=\"text-align: right;\">\n",
       "      <th></th>\n",
       "      <th>Date</th>\n",
       "      <th>Rate</th>\n",
       "    </tr>\n",
       "  </thead>\n",
       "  <tbody>\n",
       "    <tr>\n",
       "      <th>0</th>\n",
       "      <td>2015-01-01</td>\n",
       "      <td>0.041667</td>\n",
       "    </tr>\n",
       "    <tr>\n",
       "      <th>1</th>\n",
       "      <td>2015-02-01</td>\n",
       "      <td>0.041667</td>\n",
       "    </tr>\n",
       "    <tr>\n",
       "      <th>2</th>\n",
       "      <td>2015-03-01</td>\n",
       "      <td>0.041667</td>\n",
       "    </tr>\n",
       "    <tr>\n",
       "      <th>3</th>\n",
       "      <td>2015-04-01</td>\n",
       "      <td>0.041667</td>\n",
       "    </tr>\n",
       "    <tr>\n",
       "      <th>4</th>\n",
       "      <td>2015-05-01</td>\n",
       "      <td>0.041667</td>\n",
       "    </tr>\n",
       "    <tr>\n",
       "      <th>...</th>\n",
       "      <td>...</td>\n",
       "      <td>...</td>\n",
       "    </tr>\n",
       "    <tr>\n",
       "      <th>91</th>\n",
       "      <td>2022-08-01</td>\n",
       "      <td>0.145833</td>\n",
       "    </tr>\n",
       "    <tr>\n",
       "      <th>92</th>\n",
       "      <td>2022-09-01</td>\n",
       "      <td>0.187500</td>\n",
       "    </tr>\n",
       "    <tr>\n",
       "      <th>93</th>\n",
       "      <td>2022-10-01</td>\n",
       "      <td>0.187500</td>\n",
       "    </tr>\n",
       "    <tr>\n",
       "      <th>94</th>\n",
       "      <td>2022-11-01</td>\n",
       "      <td>0.250000</td>\n",
       "    </tr>\n",
       "    <tr>\n",
       "      <th>95</th>\n",
       "      <td>2022-12-01</td>\n",
       "      <td>0.291667</td>\n",
       "    </tr>\n",
       "  </tbody>\n",
       "</table>\n",
       "<p>96 rows × 2 columns</p>\n",
       "</div>"
      ],
      "text/plain": [
       "         Date      Rate\n",
       "0  2015-01-01  0.041667\n",
       "1  2015-02-01  0.041667\n",
       "2  2015-03-01  0.041667\n",
       "3  2015-04-01  0.041667\n",
       "4  2015-05-01  0.041667\n",
       "..        ...       ...\n",
       "91 2022-08-01  0.145833\n",
       "92 2022-09-01  0.187500\n",
       "93 2022-10-01  0.187500\n",
       "94 2022-11-01  0.250000\n",
       "95 2022-12-01  0.291667\n",
       "\n",
       "[96 rows x 2 columns]"
      ]
     },
     "execution_count": 13,
     "metadata": {},
     "output_type": "execute_result"
    }
   ],
   "source": [
    "bank_rates['Rate'] = bank_rates['Rate']/12\n",
    "bank_rates"
   ]
  },
  {
   "cell_type": "code",
   "execution_count": 14,
   "id": "b152c170",
   "metadata": {},
   "outputs": [],
   "source": [
    "house_prices['Date'] = pd.to_datetime(house_prices['Date'])\n",
    "house_prices = house_prices.sort_values(by=\"Date\")"
   ]
  },
  {
   "cell_type": "code",
   "execution_count": 15,
   "id": "d4a2a8cf",
   "metadata": {},
   "outputs": [],
   "source": [
    "values = pd.DataFrame()"
   ]
  },
  {
   "cell_type": "code",
   "execution_count": 16,
   "id": "b15c24dc",
   "metadata": {},
   "outputs": [
    {
     "data": {
      "text/html": [
       "<div>\n",
       "<style scoped>\n",
       "    .dataframe tbody tr th:only-of-type {\n",
       "        vertical-align: middle;\n",
       "    }\n",
       "\n",
       "    .dataframe tbody tr th {\n",
       "        vertical-align: top;\n",
       "    }\n",
       "\n",
       "    .dataframe thead th {\n",
       "        text-align: right;\n",
       "    }\n",
       "</style>\n",
       "<table border=\"1\" class=\"dataframe\">\n",
       "  <thead>\n",
       "    <tr style=\"text-align: right;\">\n",
       "      <th></th>\n",
       "      <th>Date</th>\n",
       "      <th>Rate</th>\n",
       "    </tr>\n",
       "  </thead>\n",
       "  <tbody>\n",
       "    <tr>\n",
       "      <th>0</th>\n",
       "      <td>2015-01-01</td>\n",
       "      <td>0.041667</td>\n",
       "    </tr>\n",
       "    <tr>\n",
       "      <th>1</th>\n",
       "      <td>2015-02-01</td>\n",
       "      <td>0.041667</td>\n",
       "    </tr>\n",
       "    <tr>\n",
       "      <th>2</th>\n",
       "      <td>2015-03-01</td>\n",
       "      <td>0.041667</td>\n",
       "    </tr>\n",
       "    <tr>\n",
       "      <th>3</th>\n",
       "      <td>2015-04-01</td>\n",
       "      <td>0.041667</td>\n",
       "    </tr>\n",
       "    <tr>\n",
       "      <th>4</th>\n",
       "      <td>2015-05-01</td>\n",
       "      <td>0.041667</td>\n",
       "    </tr>\n",
       "    <tr>\n",
       "      <th>...</th>\n",
       "      <td>...</td>\n",
       "      <td>...</td>\n",
       "    </tr>\n",
       "    <tr>\n",
       "      <th>91</th>\n",
       "      <td>2022-08-01</td>\n",
       "      <td>0.145833</td>\n",
       "    </tr>\n",
       "    <tr>\n",
       "      <th>92</th>\n",
       "      <td>2022-09-01</td>\n",
       "      <td>0.187500</td>\n",
       "    </tr>\n",
       "    <tr>\n",
       "      <th>93</th>\n",
       "      <td>2022-10-01</td>\n",
       "      <td>0.187500</td>\n",
       "    </tr>\n",
       "    <tr>\n",
       "      <th>94</th>\n",
       "      <td>2022-11-01</td>\n",
       "      <td>0.250000</td>\n",
       "    </tr>\n",
       "    <tr>\n",
       "      <th>95</th>\n",
       "      <td>2022-12-01</td>\n",
       "      <td>0.291667</td>\n",
       "    </tr>\n",
       "  </tbody>\n",
       "</table>\n",
       "<p>96 rows × 2 columns</p>\n",
       "</div>"
      ],
      "text/plain": [
       "         Date      Rate\n",
       "0  2015-01-01  0.041667\n",
       "1  2015-02-01  0.041667\n",
       "2  2015-03-01  0.041667\n",
       "3  2015-04-01  0.041667\n",
       "4  2015-05-01  0.041667\n",
       "..        ...       ...\n",
       "91 2022-08-01  0.145833\n",
       "92 2022-09-01  0.187500\n",
       "93 2022-10-01  0.187500\n",
       "94 2022-11-01  0.250000\n",
       "95 2022-12-01  0.291667\n",
       "\n",
       "[96 rows x 2 columns]"
      ]
     },
     "execution_count": 16,
     "metadata": {},
     "output_type": "execute_result"
    }
   ],
   "source": [
    "# riskfree = pd.read_csv('riskfree.csv')\n",
    "# bitcoin = pd.read_csv('bitcoin.csv')\n",
    "# gold = pd.read_csv('Gold.csv')\n",
    "# ftse = pd.read_csv('FTSE.csv')\n",
    "# bank_rates = pd.read_excel('bank_rates.xlsx')\n",
    "# house_prices = pd.read_excel('house_prices.xlsx')\n",
    "bank_rates"
   ]
  },
  {
   "cell_type": "code",
   "execution_count": 17,
   "id": "56337425",
   "metadata": {},
   "outputs": [],
   "source": [
    "values.index = riskfree['Date'].dt.strftime('%m/%Y')\n",
    "values['riskfree'] = riskfree['Price'].values\n",
    "values['bitcoin'] = bitcoin['Open'].values\n",
    "values[\"gold\"] = gold['Price'].values\n",
    "values[\"ftse\"] = ftse['Price'].values\n",
    "values['ftse'] = values['ftse'].str.replace(',','')\n",
    "values[\"ftse\"] = values[\"ftse\"].astype(float)\n",
    "values[\"house_prices\"] = house_prices['PX_MID'].values\n",
    "values[\"bank_rates\"] = bank_rates['Rate'].values"
   ]
  },
  {
   "cell_type": "code",
   "execution_count": 18,
   "id": "a850b092",
   "metadata": {},
   "outputs": [
    {
     "data": {
      "text/html": [
       "<div>\n",
       "<style scoped>\n",
       "    .dataframe tbody tr th:only-of-type {\n",
       "        vertical-align: middle;\n",
       "    }\n",
       "\n",
       "    .dataframe tbody tr th {\n",
       "        vertical-align: top;\n",
       "    }\n",
       "\n",
       "    .dataframe thead th {\n",
       "        text-align: right;\n",
       "    }\n",
       "</style>\n",
       "<table border=\"1\" class=\"dataframe\">\n",
       "  <thead>\n",
       "    <tr style=\"text-align: right;\">\n",
       "      <th></th>\n",
       "      <th>riskfree</th>\n",
       "      <th>bitcoin</th>\n",
       "      <th>gold</th>\n",
       "      <th>ftse</th>\n",
       "      <th>house_prices</th>\n",
       "      <th>bank_rates</th>\n",
       "    </tr>\n",
       "    <tr>\n",
       "      <th>Date</th>\n",
       "      <th></th>\n",
       "      <th></th>\n",
       "      <th></th>\n",
       "      <th></th>\n",
       "      <th></th>\n",
       "      <th></th>\n",
       "    </tr>\n",
       "  </thead>\n",
       "  <tbody>\n",
       "    <tr>\n",
       "      <th>01/2015</th>\n",
       "      <td>1.341</td>\n",
       "      <td>320.434998</td>\n",
       "      <td>441.71</td>\n",
       "      <td>6749.40</td>\n",
       "      <td>190665</td>\n",
       "      <td>0.041667</td>\n",
       "    </tr>\n",
       "    <tr>\n",
       "      <th>02/2015</th>\n",
       "      <td>1.789</td>\n",
       "      <td>216.867004</td>\n",
       "      <td>418.89</td>\n",
       "      <td>6946.66</td>\n",
       "      <td>190827</td>\n",
       "      <td>0.041667</td>\n",
       "    </tr>\n",
       "    <tr>\n",
       "      <th>03/2015</th>\n",
       "      <td>1.579</td>\n",
       "      <td>254.283005</td>\n",
       "      <td>408.56</td>\n",
       "      <td>6773.04</td>\n",
       "      <td>191537</td>\n",
       "      <td>0.041667</td>\n",
       "    </tr>\n",
       "    <tr>\n",
       "      <th>04/2015</th>\n",
       "      <td>1.835</td>\n",
       "      <td>244.223007</td>\n",
       "      <td>408.29</td>\n",
       "      <td>6960.63</td>\n",
       "      <td>193225</td>\n",
       "      <td>0.041667</td>\n",
       "    </tr>\n",
       "    <tr>\n",
       "      <th>05/2015</th>\n",
       "      <td>1.804</td>\n",
       "      <td>235.938995</td>\n",
       "      <td>410.84</td>\n",
       "      <td>6984.43</td>\n",
       "      <td>195313</td>\n",
       "      <td>0.041667</td>\n",
       "    </tr>\n",
       "    <tr>\n",
       "      <th>...</th>\n",
       "      <td>...</td>\n",
       "      <td>...</td>\n",
       "      <td>...</td>\n",
       "      <td>...</td>\n",
       "      <td>...</td>\n",
       "      <td>...</td>\n",
       "    </tr>\n",
       "    <tr>\n",
       "      <th>08/2022</th>\n",
       "      <td>2.799</td>\n",
       "      <td>23336.718750</td>\n",
       "      <td>596.06</td>\n",
       "      <td>7284.15</td>\n",
       "      <td>292206</td>\n",
       "      <td>0.145833</td>\n",
       "    </tr>\n",
       "    <tr>\n",
       "      <th>09/2022</th>\n",
       "      <td>4.096</td>\n",
       "      <td>20050.498050</td>\n",
       "      <td>577.35</td>\n",
       "      <td>6893.81</td>\n",
       "      <td>294274</td>\n",
       "      <td>0.187500</td>\n",
       "    </tr>\n",
       "    <tr>\n",
       "      <th>10/2022</th>\n",
       "      <td>3.523</td>\n",
       "      <td>19431.105470</td>\n",
       "      <td>566.54</td>\n",
       "      <td>7094.53</td>\n",
       "      <td>294996</td>\n",
       "      <td>0.187500</td>\n",
       "    </tr>\n",
       "    <tr>\n",
       "      <th>11/2022</th>\n",
       "      <td>3.163</td>\n",
       "      <td>20494.898440</td>\n",
       "      <td>607.70</td>\n",
       "      <td>7573.05</td>\n",
       "      <td>295608</td>\n",
       "      <td>0.250000</td>\n",
       "    </tr>\n",
       "    <tr>\n",
       "      <th>12/2022</th>\n",
       "      <td>3.669</td>\n",
       "      <td>17168.001950</td>\n",
       "      <td>630.59</td>\n",
       "      <td>7451.74</td>\n",
       "      <td>294329</td>\n",
       "      <td>0.291667</td>\n",
       "    </tr>\n",
       "  </tbody>\n",
       "</table>\n",
       "<p>96 rows × 6 columns</p>\n",
       "</div>"
      ],
      "text/plain": [
       "         riskfree       bitcoin    gold     ftse  house_prices  bank_rates\n",
       "Date                                                                      \n",
       "01/2015     1.341    320.434998  441.71  6749.40        190665    0.041667\n",
       "02/2015     1.789    216.867004  418.89  6946.66        190827    0.041667\n",
       "03/2015     1.579    254.283005  408.56  6773.04        191537    0.041667\n",
       "04/2015     1.835    244.223007  408.29  6960.63        193225    0.041667\n",
       "05/2015     1.804    235.938995  410.84  6984.43        195313    0.041667\n",
       "...           ...           ...     ...      ...           ...         ...\n",
       "08/2022     2.799  23336.718750  596.06  7284.15        292206    0.145833\n",
       "09/2022     4.096  20050.498050  577.35  6893.81        294274    0.187500\n",
       "10/2022     3.523  19431.105470  566.54  7094.53        294996    0.187500\n",
       "11/2022     3.163  20494.898440  607.70  7573.05        295608    0.250000\n",
       "12/2022     3.669  17168.001950  630.59  7451.74        294329    0.291667\n",
       "\n",
       "[96 rows x 6 columns]"
      ]
     },
     "execution_count": 18,
     "metadata": {},
     "output_type": "execute_result"
    }
   ],
   "source": [
    "values"
   ]
  },
  {
   "cell_type": "code",
   "execution_count": 19,
   "id": "127d163d",
   "metadata": {},
   "outputs": [],
   "source": [
    "returns = pd.DataFrame()\n",
    "returns = values.pct_change(1)\n",
    "returns['bank_rates'] = values['bank_rates']"
   ]
  },
  {
   "cell_type": "code",
   "execution_count": 20,
   "id": "8b9cc361",
   "metadata": {},
   "outputs": [
    {
     "data": {
      "text/html": [
       "<div>\n",
       "<style scoped>\n",
       "    .dataframe tbody tr th:only-of-type {\n",
       "        vertical-align: middle;\n",
       "    }\n",
       "\n",
       "    .dataframe tbody tr th {\n",
       "        vertical-align: top;\n",
       "    }\n",
       "\n",
       "    .dataframe thead th {\n",
       "        text-align: right;\n",
       "    }\n",
       "</style>\n",
       "<table border=\"1\" class=\"dataframe\">\n",
       "  <thead>\n",
       "    <tr style=\"text-align: right;\">\n",
       "      <th></th>\n",
       "      <th>riskfree</th>\n",
       "      <th>bitcoin</th>\n",
       "      <th>gold</th>\n",
       "      <th>ftse</th>\n",
       "      <th>house_prices</th>\n",
       "      <th>bank_rates</th>\n",
       "    </tr>\n",
       "    <tr>\n",
       "      <th>Date</th>\n",
       "      <th></th>\n",
       "      <th></th>\n",
       "      <th></th>\n",
       "      <th></th>\n",
       "      <th></th>\n",
       "      <th></th>\n",
       "    </tr>\n",
       "  </thead>\n",
       "  <tbody>\n",
       "    <tr>\n",
       "      <th>01/2015</th>\n",
       "      <td>NaN</td>\n",
       "      <td>NaN</td>\n",
       "      <td>NaN</td>\n",
       "      <td>NaN</td>\n",
       "      <td>NaN</td>\n",
       "      <td>0.041667</td>\n",
       "    </tr>\n",
       "    <tr>\n",
       "      <th>02/2015</th>\n",
       "      <td>0.334079</td>\n",
       "      <td>-0.323211</td>\n",
       "      <td>-0.051663</td>\n",
       "      <td>0.029226</td>\n",
       "      <td>0.000850</td>\n",
       "      <td>0.041667</td>\n",
       "    </tr>\n",
       "    <tr>\n",
       "      <th>03/2015</th>\n",
       "      <td>-0.117384</td>\n",
       "      <td>0.172530</td>\n",
       "      <td>-0.024660</td>\n",
       "      <td>-0.024993</td>\n",
       "      <td>0.003721</td>\n",
       "      <td>0.041667</td>\n",
       "    </tr>\n",
       "    <tr>\n",
       "      <th>04/2015</th>\n",
       "      <td>0.162128</td>\n",
       "      <td>-0.039562</td>\n",
       "      <td>-0.000661</td>\n",
       "      <td>0.027697</td>\n",
       "      <td>0.008813</td>\n",
       "      <td>0.041667</td>\n",
       "    </tr>\n",
       "    <tr>\n",
       "      <th>05/2015</th>\n",
       "      <td>-0.016894</td>\n",
       "      <td>-0.033920</td>\n",
       "      <td>0.006246</td>\n",
       "      <td>0.003419</td>\n",
       "      <td>0.010806</td>\n",
       "      <td>0.041667</td>\n",
       "    </tr>\n",
       "    <tr>\n",
       "      <th>...</th>\n",
       "      <td>...</td>\n",
       "      <td>...</td>\n",
       "      <td>...</td>\n",
       "      <td>...</td>\n",
       "      <td>...</td>\n",
       "      <td>...</td>\n",
       "    </tr>\n",
       "    <tr>\n",
       "      <th>08/2022</th>\n",
       "      <td>0.510523</td>\n",
       "      <td>0.177405</td>\n",
       "      <td>-0.031206</td>\n",
       "      <td>-0.018762</td>\n",
       "      <td>0.011072</td>\n",
       "      <td>0.145833</td>\n",
       "    </tr>\n",
       "    <tr>\n",
       "      <th>09/2022</th>\n",
       "      <td>0.463380</td>\n",
       "      <td>-0.140818</td>\n",
       "      <td>-0.031389</td>\n",
       "      <td>-0.053588</td>\n",
       "      <td>0.007077</td>\n",
       "      <td>0.187500</td>\n",
       "    </tr>\n",
       "    <tr>\n",
       "      <th>10/2022</th>\n",
       "      <td>-0.139893</td>\n",
       "      <td>-0.030892</td>\n",
       "      <td>-0.018723</td>\n",
       "      <td>0.029116</td>\n",
       "      <td>0.002453</td>\n",
       "      <td>0.187500</td>\n",
       "    </tr>\n",
       "    <tr>\n",
       "      <th>11/2022</th>\n",
       "      <td>-0.102186</td>\n",
       "      <td>0.054747</td>\n",
       "      <td>0.072652</td>\n",
       "      <td>0.067449</td>\n",
       "      <td>0.002075</td>\n",
       "      <td>0.250000</td>\n",
       "    </tr>\n",
       "    <tr>\n",
       "      <th>12/2022</th>\n",
       "      <td>0.159975</td>\n",
       "      <td>-0.162328</td>\n",
       "      <td>0.037667</td>\n",
       "      <td>-0.016019</td>\n",
       "      <td>-0.004327</td>\n",
       "      <td>0.291667</td>\n",
       "    </tr>\n",
       "  </tbody>\n",
       "</table>\n",
       "<p>96 rows × 6 columns</p>\n",
       "</div>"
      ],
      "text/plain": [
       "         riskfree   bitcoin      gold      ftse  house_prices  bank_rates\n",
       "Date                                                                     \n",
       "01/2015       NaN       NaN       NaN       NaN           NaN    0.041667\n",
       "02/2015  0.334079 -0.323211 -0.051663  0.029226      0.000850    0.041667\n",
       "03/2015 -0.117384  0.172530 -0.024660 -0.024993      0.003721    0.041667\n",
       "04/2015  0.162128 -0.039562 -0.000661  0.027697      0.008813    0.041667\n",
       "05/2015 -0.016894 -0.033920  0.006246  0.003419      0.010806    0.041667\n",
       "...           ...       ...       ...       ...           ...         ...\n",
       "08/2022  0.510523  0.177405 -0.031206 -0.018762      0.011072    0.145833\n",
       "09/2022  0.463380 -0.140818 -0.031389 -0.053588      0.007077    0.187500\n",
       "10/2022 -0.139893 -0.030892 -0.018723  0.029116      0.002453    0.187500\n",
       "11/2022 -0.102186  0.054747  0.072652  0.067449      0.002075    0.250000\n",
       "12/2022  0.159975 -0.162328  0.037667 -0.016019     -0.004327    0.291667\n",
       "\n",
       "[96 rows x 6 columns]"
      ]
     },
     "execution_count": 20,
     "metadata": {},
     "output_type": "execute_result"
    }
   ],
   "source": [
    "returns"
   ]
  },
  {
   "cell_type": "code",
   "execution_count": 21,
   "id": "3c012f12",
   "metadata": {},
   "outputs": [],
   "source": [
    "mean_returns = returns.mean()\n",
    "mean_returns = mean_returns.to_dict()"
   ]
  },
  {
   "cell_type": "code",
   "execution_count": 22,
   "id": "362ace17",
   "metadata": {},
   "outputs": [
    {
     "data": {
      "text/plain": [
       "{'riskfree': 0.00322,\n",
       " 'bitcoin': 0.06687589620239774,\n",
       " 'gold': 0.004493369767621386,\n",
       " 'ftse': 0.0017219801309813312,\n",
       " 'house_prices': 0.004640390645573267,\n",
       " 'bank_rates': 0.045876736111111115}"
      ]
     },
     "execution_count": 22,
     "metadata": {},
     "output_type": "execute_result"
    }
   ],
   "source": [
    "mean_returns['riskfree'] = 0.00322 # current yearly rate is 3.864%, thus monthly rate is 3.864/12\n",
    "mean_returns"
   ]
  },
  {
   "cell_type": "code",
   "execution_count": 23,
   "id": "21a26256",
   "metadata": {},
   "outputs": [],
   "source": [
    "variance = returns.var()\n",
    "variance = variance.to_dict()"
   ]
  },
  {
   "cell_type": "code",
   "execution_count": 24,
   "id": "c76546d3",
   "metadata": {},
   "outputs": [
    {
     "data": {
      "text/plain": [
       "{'riskfree': 0,\n",
       " 'bitcoin': 0.05276732797060849,\n",
       " 'gold': 0.001509312501510058,\n",
       " 'ftse': 0.0013549727170874425,\n",
       " 'house_prices': 0.00012109719949019301,\n",
       " 'bank_rates': 0.002178543418006822}"
      ]
     },
     "execution_count": 24,
     "metadata": {},
     "output_type": "execute_result"
    }
   ],
   "source": [
    "variance['riskfree'] = 0 # assume\n",
    "variance"
   ]
  },
  {
   "cell_type": "code",
   "execution_count": 25,
   "id": "d1745f4e",
   "metadata": {},
   "outputs": [],
   "source": [
    "covariance = values.cov()"
   ]
  },
  {
   "cell_type": "code",
   "execution_count": 26,
   "id": "a72ca0f2",
   "metadata": {},
   "outputs": [
    {
     "data": {
      "text/html": [
       "<div>\n",
       "<style scoped>\n",
       "    .dataframe tbody tr th:only-of-type {\n",
       "        vertical-align: middle;\n",
       "    }\n",
       "\n",
       "    .dataframe tbody tr th {\n",
       "        vertical-align: top;\n",
       "    }\n",
       "\n",
       "    .dataframe thead th {\n",
       "        text-align: right;\n",
       "    }\n",
       "</style>\n",
       "<table border=\"1\" class=\"dataframe\">\n",
       "  <thead>\n",
       "    <tr style=\"text-align: right;\">\n",
       "      <th></th>\n",
       "      <th>riskfree</th>\n",
       "      <th>bitcoin</th>\n",
       "      <th>gold</th>\n",
       "      <th>ftse</th>\n",
       "      <th>house_prices</th>\n",
       "      <th>bank_rates</th>\n",
       "    </tr>\n",
       "  </thead>\n",
       "  <tbody>\n",
       "    <tr>\n",
       "      <th>riskfree</th>\n",
       "      <td>0</td>\n",
       "      <td>0.000000e+00</td>\n",
       "      <td>0.000000e+00</td>\n",
       "      <td>0.000000e+00</td>\n",
       "      <td>0.000000e+00</td>\n",
       "      <td>0.000000</td>\n",
       "    </tr>\n",
       "    <tr>\n",
       "      <th>bitcoin</th>\n",
       "      <td>0</td>\n",
       "      <td>2.652161e+08</td>\n",
       "      <td>1.174646e+06</td>\n",
       "      <td>1.890792e+06</td>\n",
       "      <td>3.215854e+08</td>\n",
       "      <td>-19.239194</td>\n",
       "    </tr>\n",
       "    <tr>\n",
       "      <th>gold</th>\n",
       "      <td>0</td>\n",
       "      <td>1.174646e+06</td>\n",
       "      <td>9.018851e+03</td>\n",
       "      <td>-3.173816e+03</td>\n",
       "      <td>2.008619e+06</td>\n",
       "      <td>0.315971</td>\n",
       "    </tr>\n",
       "    <tr>\n",
       "      <th>ftse</th>\n",
       "      <td>0</td>\n",
       "      <td>1.890792e+06</td>\n",
       "      <td>-3.173816e+03</td>\n",
       "      <td>2.873414e+05</td>\n",
       "      <td>4.278158e+06</td>\n",
       "      <td>7.791421</td>\n",
       "    </tr>\n",
       "    <tr>\n",
       "      <th>house_prices</th>\n",
       "      <td>0</td>\n",
       "      <td>3.215854e+08</td>\n",
       "      <td>2.008619e+06</td>\n",
       "      <td>4.278158e+06</td>\n",
       "      <td>6.936991e+08</td>\n",
       "      <td>567.095727</td>\n",
       "    </tr>\n",
       "    <tr>\n",
       "      <th>bank_rates</th>\n",
       "      <td>0</td>\n",
       "      <td>-1.923919e+01</td>\n",
       "      <td>3.159706e-01</td>\n",
       "      <td>7.791421e+00</td>\n",
       "      <td>5.670957e+02</td>\n",
       "      <td>0.002179</td>\n",
       "    </tr>\n",
       "  </tbody>\n",
       "</table>\n",
       "</div>"
      ],
      "text/plain": [
       "              riskfree       bitcoin          gold          ftse  \\\n",
       "riskfree             0  0.000000e+00  0.000000e+00  0.000000e+00   \n",
       "bitcoin              0  2.652161e+08  1.174646e+06  1.890792e+06   \n",
       "gold                 0  1.174646e+06  9.018851e+03 -3.173816e+03   \n",
       "ftse                 0  1.890792e+06 -3.173816e+03  2.873414e+05   \n",
       "house_prices         0  3.215854e+08  2.008619e+06  4.278158e+06   \n",
       "bank_rates           0 -1.923919e+01  3.159706e-01  7.791421e+00   \n",
       "\n",
       "              house_prices  bank_rates  \n",
       "riskfree      0.000000e+00    0.000000  \n",
       "bitcoin       3.215854e+08  -19.239194  \n",
       "gold          2.008619e+06    0.315971  \n",
       "ftse          4.278158e+06    7.791421  \n",
       "house_prices  6.936991e+08  567.095727  \n",
       "bank_rates    5.670957e+02    0.002179  "
      ]
     },
     "execution_count": 26,
     "metadata": {},
     "output_type": "execute_result"
    }
   ],
   "source": [
    "covariance['riskfree'] = 0\n",
    "covariance.iloc[0] = 0\n",
    "covariance"
   ]
  },
  {
   "cell_type": "markdown",
   "id": "34ed7b73",
   "metadata": {},
   "source": [
    "## User-defined input"
   ]
  },
  {
   "cell_type": "markdown",
   "id": "9027f252",
   "metadata": {},
   "source": [
    "## Vivian's code"
   ]
  },
  {
   "cell_type": "code",
   "execution_count": 27,
   "id": "32a9c676",
   "metadata": {},
   "outputs": [],
   "source": [
    "#vivan's code - linked to extract the values that were user's input from the dashboard\n",
    "\n",
    "#our temporary input\n",
    "# time_frame = 2\n",
    "\n",
    "# amount_invested = 1000 \n",
    "\n",
    "# min_return = 5000\n",
    "\n",
    "# max_risk = 0.1\n",
    "\n",
    "time_frame = 12\n",
    "min_return = 5000\n",
    "max_risk = 10\n",
    "amount_invested = 100000"
   ]
  },
  {
   "cell_type": "markdown",
   "id": "364abda5",
   "metadata": {},
   "source": [
    "## Model creation"
   ]
  },
  {
   "cell_type": "code",
   "execution_count": 28,
   "id": "a9d81ec0",
   "metadata": {},
   "outputs": [
    {
     "name": "stdout",
     "output_type": "stream",
     "text": [
      "Set parameter Username\n",
      "Academic license - for non-commercial use only - expires 2024-02-09\n"
     ]
    }
   ],
   "source": [
    "# Create a new model:\n",
    "m = gp.Model(\"portfolio\")"
   ]
  },
  {
   "cell_type": "markdown",
   "id": "d4a82760",
   "metadata": {},
   "source": [
    "## Data"
   ]
  },
  {
   "cell_type": "markdown",
   "id": "ccfb19a4",
   "metadata": {},
   "source": [
    "*Define the dictionaries containing the data:*"
   ]
  },
  {
   "cell_type": "code",
   "execution_count": 29,
   "id": "b60a5c90",
   "metadata": {},
   "outputs": [],
   "source": [
    "# Fixed inputs\n",
    "assets = ['riskfree', 'bitcoin', 'gold', 'ftse', 'house_prices', 'bank_rates'] \n",
    "\n",
    "# will need to get real data from Ishaan to substitute below:\n",
    "returns = mean_returns\n",
    "\n",
    "risks = variance"
   ]
  },
  {
   "cell_type": "markdown",
   "id": "cf00b820",
   "metadata": {},
   "source": [
    "## Formulate the optimal allocation strategy as an integer program"
   ]
  },
  {
   "cell_type": "markdown",
   "id": "5ed4d6ae",
   "metadata": {},
   "source": [
    "\n",
    "1. **Decision variables:** We create a decision variable $x_a$ for the amount invested for each asset $a \\in {\\rm assets}$.\n",
    "This means that we have the following decision variables: $x_{crypto}, x_{real estate}, x_{FTSE},x_{tech stocks}, x_{savings account}, x_{bond 3m}, x_{bond 1 yr}, x_{bond 5 yr},x_{bond 10 yr}$. The quantity of the optimal budget allocation over assets is unknown.\n",
    "\n",
    "\n",
    "2. **Constraints:** We need to ensure that the total budget spent across all the keywords does not exceed the fixed amount to be invested that was entered by the user. Mathematically, this requirement is expressed using a linear constraint: \n",
    "<br><br>\n",
    "$$  x_{crypto} + x_{real estate} + x_{FTSE} + x_{tech stocks} + x_{savings account} + x_{bond 3m}+x_{bond 1 yr}+x_{bond 5 yr}+x_{bond 10 yr} \\leq \\quad money\\quad invested$$\n",
    "<br>\n",
    "In this constraint, the total money invested spent should not exceed the restriction of the user input.\n",
    "\n",
    "    \n",
    "3. **Objective function:** Now, we need to select the objective function. *What should we optimize for?* The goal is find a combination of money allocation for each asset that maximizes the final return. It is shown with the following expression:\n",
    "\n",
    "<br><br>\n",
    "$$  \\max_{x_a}  \\quad\\quad\\quad  x_{crypto}\\cdot(1+return rate_{crypto})^{time frame} + x_{real estate}\\cdot(1+return rate_{real estate})^{time frame} + x_{FTSE}\\cdot(1+return rate_{FTSE})^{time frame} + x_{tech stocks}\\cdot(1+return rate_{tech stocks})^{time frame} + x_{savings account}\\cdot(1+return rate_{savings account})^{time frame} + x_{bond 3m}\\cdot(1+return rate_{bond 3m})^{time frame} + x_{bond 1 yr}\\cdot(1+return rate_{bond 1 yr})^{time frame} + x_{bond 5 yr}\\cdot(1+return rate_{bond 5 yr})^{time frame} + x_{bond 10 yr}\\cdot(1+return rate_{bond 10 yr})^{time frame}$$\n",
    "<br>\n",
    "\n",
    "In this function, we maximize the return for a given time horizon specified by the user (ie. *time_frame* refers to the time period for which the user is ready to have their money locked in the investment portfolio). \n",
    "\n",
    "Shortly, we can express the function as following:\n",
    "\n",
    "$$ \\max_{x_a} \\quad\\quad\\quad \\sum_{a=1}^{n} X_a \\cdot (1+return rate_a)^{time frame}$$\n"
   ]
  },
  {
   "cell_type": "markdown",
   "id": "20a48ecb",
   "metadata": {},
   "source": [
    "## Decision variables"
   ]
  },
  {
   "cell_type": "code",
   "execution_count": 30,
   "id": "d78eae1d",
   "metadata": {},
   "outputs": [],
   "source": [
    "investment_amount = m.addVars(assets, vtype=GRB.INTEGER, lb = 0, name = \"investment_amount\")"
   ]
  },
  {
   "cell_type": "markdown",
   "id": "afbbffba",
   "metadata": {},
   "source": [
    "## Constraints "
   ]
  },
  {
   "cell_type": "markdown",
   "id": "24e2862c",
   "metadata": {},
   "source": [
    "Add constraints for:\n",
    "\n",
    "1) minimum output return that is accepted (ie. that the output should be greater than or equal to the return desired by the user)\n",
    "\n",
    "2) maximum level of risk accepted (ie. that the output portfolio should have risk that does not exceed the maximum risk specified by the user)"
   ]
  },
  {
   "cell_type": "code",
   "execution_count": 31,
   "id": "cc2c0d13",
   "metadata": {},
   "outputs": [
    {
     "data": {
      "text/plain": [
       "<gurobi.Constr *Awaiting Model Update*>"
      ]
     },
     "execution_count": 31,
     "metadata": {},
     "output_type": "execute_result"
    }
   ],
   "source": [
    "#proxy values\n",
    "# time_frame = 10\n",
    "# min_return = 0.03\n",
    "# max_risk = 0.1\n",
    "# amount_invested = 10000\n",
    "\n",
    "#min return accepted       \n",
    "m.addConstr((quicksum(investment_amount[a]*((1+returns[a])**(12*time_frame)) for a in assets)-amount_invested >= min_return),\n",
    "             name = \"minimum return accepted\")\n",
    "\n",
    "#max risk accepted\n",
    "# m.addConstr((quicksum(investment_amount[a1]*investment_amount[a2]*risks[a1]*risks[a2]*covariance.loc[a1,a2]/((amount_invested)**2) \n",
    "#                        for a1 in assets for a2 in assets)) <= max_risk, name=\"maximum risk accepted\")\n",
    "\n",
    "#max risk accepted corrected\n",
    "m.addConstr((quicksum(investment_amount[a1]*investment_amount[a2]*covariance.loc[a1,a2]/((amount_invested)**2) \n",
    "                       for a1 in assets for a2 in assets)) <= (max_risk**2), name=\"maximum risk accepted\")\n",
    "\n",
    "#sum of investments\n",
    "m.addConstr((quicksum(investment_amount[a1] for a1 in assets)) == amount_invested, name=\"sum of investments\")"
   ]
  },
  {
   "cell_type": "markdown",
   "id": "b9ec63fa",
   "metadata": {},
   "source": [
    "## Objective"
   ]
  },
  {
   "cell_type": "markdown",
   "id": "a78a2d0b",
   "metadata": {},
   "source": [
    "Formulate the objective function "
   ]
  },
  {
   "cell_type": "code",
   "execution_count": 32,
   "id": "11ada605",
   "metadata": {},
   "outputs": [],
   "source": [
    "# Objective function:\n",
    "m.setObjective(quicksum(investment_amount[a]*((1+returns[a])**(12*time_frame)) for a in assets), \n",
    "              GRB.MAXIMIZE)\n",
    "\n",
    "#add the objective function to minimize risk \n",
    "#send Vivian the output from running the model"
   ]
  },
  {
   "cell_type": "markdown",
   "id": "b4a3bfb1",
   "metadata": {},
   "source": [
    "## Solve"
   ]
  },
  {
   "cell_type": "markdown",
   "id": "9a584e91",
   "metadata": {},
   "source": [
    "After having formulated and implemented the integer program, we can now optimize the portfolio allocation and printout the optimal return:"
   ]
  },
  {
   "cell_type": "code",
   "execution_count": 33,
   "id": "fffc6219",
   "metadata": {},
   "outputs": [
    {
     "name": "stdout",
     "output_type": "stream",
     "text": [
      "Gurobi Optimizer version 10.0.0 build v10.0.0rc2 (mac64[rosetta2])\n",
      "\n",
      "CPU model: Apple M1 Pro\n",
      "Thread count: 8 physical cores, 8 logical processors, using up to 8 threads\n",
      "\n",
      "Optimize a model with 2 rows, 6 columns and 12 nonzeros\n",
      "Model fingerprint: 0xdad02658\n",
      "Model has 1 quadratic constraint\n",
      "Variable types: 0 continuous, 6 integer (0 binary)\n",
      "Coefficient statistics:\n",
      "  Matrix range     [1e+00, 1e+04]\n",
      "  QMatrix range    [2e-13, 7e-02]\n",
      "  Objective range  [1e+00, 1e+04]\n",
      "  Bounds range     [0e+00, 0e+00]\n",
      "  RHS range        [1e+05, 1e+05]\n",
      "  QRHS range       [1e+02, 1e+02]\n",
      "Presolve removed 1 rows and 0 columns\n",
      "Presolve time: 0.01s\n",
      "Presolved: 1 rows, 6 columns, 6 nonzeros\n",
      "Presolved model has 1 quadratic constraint(s)\n",
      "Variable types: 0 continuous, 6 integer (0 binary)\n",
      "\n",
      "Root relaxation: objective 6.453976e+07, 1 iterations, 0.00 seconds (0.00 work units)\n",
      "\n",
      "    Nodes    |    Current Node    |     Objective Bounds      |     Work\n",
      " Expl Unexpl |  Obj  Depth IntInf | Incumbent    BestBd   Gap | It/Node Time\n",
      "\n",
      "     0     0 6.4540e+07    0    -          - 6.4540e+07      -     -    0s\n",
      "*    0     0               0    6.449760e+07 6.4498e+07 -0.00%     -    0s\n",
      "\n",
      "Explored 1 nodes (1 simplex iterations) in 0.04 seconds (0.00 work units)\n",
      "Thread count was 8 (of 8 available processors)\n",
      "\n",
      "Solution count 1: 6.44976e+07 \n",
      "\n",
      "Optimal solution found (tolerance 1.00e-04)\n",
      "Best objective 6.449760003949e+07, best bound 6.449760003949e+07, gap 0.0000%\n",
      "\n",
      "Portfolio Return: 6.44976e+07\n",
      "\n",
      "Investment Amount:\n",
      "riskfree -0\n",
      "bitcoin 61\n",
      "gold -0\n",
      "ftse -0\n",
      "house_prices -0\n",
      "bank_rates 99939\n"
     ]
    }
   ],
   "source": [
    "# Run the optimization\n",
    "def printSolution():\n",
    "    if m.status == GRB.OPTIMAL:\n",
    "        print('\\nPortfolio Return: %g' % m.objVal)\n",
    "        print('\\nInvestment Amount:')\n",
    "        investment_amountx = m.getAttr('x', investment_amount) \n",
    "        for a in assets:            \n",
    "                print('%s %g' % (a, investment_amountx[a]))\n",
    "    else:\n",
    "        print('No solution:', m.status)\n",
    "        \n",
    "m.optimize()\n",
    "printSolution()"
   ]
  },
  {
   "cell_type": "code",
   "execution_count": 34,
   "id": "19710ac0",
   "metadata": {},
   "outputs": [
    {
     "data": {
      "text/plain": [
       "12"
      ]
     },
     "execution_count": 34,
     "metadata": {},
     "output_type": "execute_result"
    }
   ],
   "source": [
    "time_frame"
   ]
  },
  {
   "cell_type": "code",
   "execution_count": 35,
   "id": "0f12de27",
   "metadata": {},
   "outputs": [
    {
     "data": {
      "text/plain": [
       "{'riskfree': 0,\n",
       " 'bitcoin': 0.05276732797060849,\n",
       " 'gold': 0.001509312501510058,\n",
       " 'ftse': 0.0013549727170874425,\n",
       " 'house_prices': 0.00012109719949019301,\n",
       " 'bank_rates': 0.002178543418006822}"
      ]
     },
     "execution_count": 35,
     "metadata": {},
     "output_type": "execute_result"
    }
   ],
   "source": [
    "risks"
   ]
  },
  {
   "cell_type": "code",
   "execution_count": 36,
   "id": "837478cc",
   "metadata": {},
   "outputs": [
    {
     "data": {
      "text/plain": [
       "{'riskfree': 0.00322,\n",
       " 'bitcoin': 0.06687589620239774,\n",
       " 'gold': 0.004493369767621386,\n",
       " 'ftse': 0.0017219801309813312,\n",
       " 'house_prices': 0.004640390645573267,\n",
       " 'bank_rates': 0.045876736111111115}"
      ]
     },
     "execution_count": 36,
     "metadata": {},
     "output_type": "execute_result"
    }
   ],
   "source": [
    "returns"
   ]
  },
  {
   "cell_type": "code",
   "execution_count": 37,
   "id": "765575c7",
   "metadata": {},
   "outputs": [
    {
     "ename": "AttributeError",
     "evalue": "'dict' object has no attribute 'median'",
     "output_type": "error",
     "traceback": [
      "\u001b[0;31m---------------------------------------------------------------------------\u001b[0m",
      "\u001b[0;31mAttributeError\u001b[0m                            Traceback (most recent call last)",
      "Cell \u001b[0;32mIn[37], line 1\u001b[0m\n\u001b[0;32m----> 1\u001b[0m returns\u001b[39m.\u001b[39;49mmedian()\n",
      "\u001b[0;31mAttributeError\u001b[0m: 'dict' object has no attribute 'median'"
     ]
    }
   ],
   "source": [
    "returns.median()"
   ]
  },
  {
   "cell_type": "code",
   "execution_count": null,
   "id": "c7143dd4",
   "metadata": {},
   "outputs": [
    {
     "data": {
      "text/plain": [
       "riskfree        0.047547\n",
       "bitcoin         0.066876\n",
       "gold            0.004493\n",
       "ftse            0.001722\n",
       "house_prices    0.004640\n",
       "bank_rates      0.045877\n",
       "dtype: float64"
      ]
     },
     "execution_count": 193,
     "metadata": {},
     "output_type": "execute_result"
    }
   ],
   "source": [
    "returns.mean()"
   ]
  }
 ],
 "metadata": {
  "kernelspec": {
   "display_name": "dam23",
   "language": "python",
   "name": "python3"
  },
  "language_info": {
   "codemirror_mode": {
    "name": "ipython",
    "version": 3
   },
   "file_extension": ".py",
   "mimetype": "text/x-python",
   "name": "python",
   "nbconvert_exporter": "python",
   "pygments_lexer": "ipython3",
   "version": "3.10.8"
  },
  "vscode": {
   "interpreter": {
    "hash": "ff046cce7eead1ea32eadf235648f3c453c368d0ff21e216a49a8ca8e2818468"
   }
  }
 },
 "nbformat": 4,
 "nbformat_minor": 5
}
